{
  "nbformat": 4,
  "nbformat_minor": 0,
  "metadata": {
    "colab": {
      "provenance": [],
      "authorship_tag": "ABX9TyPnB9Lqhae+U0yBQoWdk6rx",
      "include_colab_link": true
    },
    "kernelspec": {
      "name": "python3",
      "display_name": "Python 3"
    },
    "language_info": {
      "name": "python"
    }
  },
  "cells": [
    {
      "cell_type": "markdown",
      "metadata": {
        "id": "view-in-github",
        "colab_type": "text"
      },
      "source": [
        "<a href=\"https://colab.research.google.com/github/LucaPredieri/MNISTLeNet5/blob/main/MNIST.ipynb\" target=\"_parent\"><img src=\"https://colab.research.google.com/assets/colab-badge.svg\" alt=\"Open In Colab\"/></a>"
      ]
    },
    {
      "cell_type": "code",
      "source": [
        "from google.colab import drive\n",
        "drive.mount('/content/drive')"
      ],
      "metadata": {
        "colab": {
          "base_uri": "https://localhost:8080/"
        },
        "id": "kcFTmNC09SCu",
        "outputId": "b74e9ae1-b155-49bb-fa55-cb996ca8fd33"
      },
      "execution_count": null,
      "outputs": [
        {
          "output_type": "stream",
          "name": "stdout",
          "text": [
            "Drive already mounted at /content/drive; to attempt to forcibly remount, call drive.mount(\"/content/drive\", force_remount=True).\n"
          ]
        }
      ]
    },
    {
      "cell_type": "code",
      "execution_count": null,
      "metadata": {
        "id": "FNE7foTG6-go"
      },
      "outputs": [],
      "source": [
        "import tensorflow as tf\n",
        "from tensorflow import keras\n",
        "import numpy as np\n",
        "import time\n",
        "import os\n",
        "from PIL import Image"
      ]
    },
    {
      "cell_type": "code",
      "source": [
        "(train_x, train_y), (test_x, test_y) = keras.datasets.mnist.load_data()\n",
        "train_x = train_x / 255.0\n",
        "test_x = test_x / 255.0\n",
        "\n",
        "train_x = tf.expand_dims(train_x, 3)\n",
        "test_x = tf.expand_dims(test_x, 3)\n",
        "\n",
        "val_x = train_x[:5000]\n",
        "val_y = train_y[:5000]\n",
        "\n",
        "print(test_x[0].shape)\n",
        "print(train_x[0].shape)\n",
        "print(train_y[0].shape)"
      ],
      "metadata": {
        "colab": {
          "base_uri": "https://localhost:8080/"
        },
        "id": "kICxmC8D7ESn",
        "outputId": "138b08f6-3c32-4aeb-dd68-ab08bdf426b7"
      },
      "execution_count": null,
      "outputs": [
        {
          "output_type": "stream",
          "name": "stdout",
          "text": [
            "(28, 28, 1)\n",
            "(28, 28, 1)\n",
            "()\n"
          ]
        }
      ]
    },
    {
      "cell_type": "code",
      "source": [
        "from numpy import load\n",
        "import matplotlib.pyplot as plt\n",
        "\n",
        "data = load('/content/drive/MyDrive/Tesi/Datasets/mnist.npz')\n",
        "lst = data.files\n",
        "#for item in lst:\n",
        "#    print(item)\n",
        "#    print(data[item])\n",
        "\n",
        "x_test = data['x_test']\n",
        "\n",
        "fig, ax = plt.subplots(3, 3, figsize=(8, 8))\n",
        "\n",
        "# Loop over the first 9 test images and plot them in the subplot grid\n",
        "for i in range(0, 9):\n",
        "    image = data['x_train'][i]\n",
        "    #label = data['y_train'][i]\n",
        "    row_idx = i // 3\n",
        "    col_idx = i % 3\n",
        "    ax[row_idx, col_idx].imshow(image, cmap='gray')\n",
        "    #ax[row_idx, col_idx].set_title(data['y_train'][label])\n",
        "\n",
        "plt.show()"
      ],
      "metadata": {
        "colab": {
          "base_uri": "https://localhost:8080/",
          "height": 678
        },
        "id": "C1phQtzkz0k5",
        "outputId": "700bf33c-e4dc-4ce1-c179-aad5b89b4264"
      },
      "execution_count": null,
      "outputs": [
        {
          "output_type": "display_data",
          "data": {
            "text/plain": [
              "<Figure size 800x800 with 9 Axes>"
            ],
            "image/png": "[encoded data removed]"
          },
          "metadata": {}
        }
      ]
    },
    {
      "cell_type": "markdown",
      "source": [
        "# Structure of LeNet-5\n",
        "\n",
        "LeNet-5 consists of seven layers, which are as follows:\n",
        "\n",
        "Input layer: This layer takes in the input image. In the case of the MNIST \n",
        "dataset, which consists of grayscale images of handwritten digits, the input \n",
        "layer has dimensions of 32x32x1. Here 28x28x1.\n",
        "\n",
        "Convolutional layer: The first layer is a convolutional layer, which convolves \n",
        "the input image with a set of learnable filters to produce a set of feature \n",
        "maps. In LeNet-5, the convolutional layer has six filters of size 5x5x1.\n",
        "\n",
        "Average pooling layer: The output of the first convolutional layer is fed into \n",
        "an average pooling layer, which reduces the size of the feature maps by taking\n",
        "the average value of each 2x2 region. This layer helps to make the network more \n",
        "robust to small translations of the input image.\n",
        "\n",
        "Convolutional layer: The second convolutional layer convolves the output of the \n",
        "first pooling layer with a set of 16 filters of size 5x5x6.\n",
        "\n",
        "Average pooling layer: The output of the second convolutional layer is fed into \n",
        "another average pooling layer, which reduces the size of the feature maps again.\n",
        "\n",
        "Fully connected layer: The output of the second pooling layer is flattened and \n",
        "fed into a fully connected layer with 120 neurons. This layer serves as a \n",
        "feature extractor, mapping the input image to a set of high-level features.\n",
        "\n",
        "Fully connected layer: The output of the previous layer is fed into another \n",
        "fully connected layer with 84 neurons, which further processes the extracted \n",
        "features.\n",
        "\n",
        "Output layer: The final layer is a fully connected layer with 10 neurons, \n",
        "corresponding to the 10 possible digits (0-9). The output of this layer is a \n",
        "probability distribution over the possible digits, and the digit with the \n",
        "highest probability is the predicted digit.\n",
        "\n"
      ],
      "metadata": {
        "id": "aMFEdi2zNvNi"
      }
    },
    {
      "cell_type": "code",
      "source": [
        "lenet_5_model = keras.models.Sequential([\n",
        "    keras.layers.Conv2D(6, kernel_size=5, strides=1,  activation='tanh', input_shape=train_x[0].shape, padding='same'), #C1\n",
        "    keras.layers.AveragePooling2D(), #S2\n",
        "    keras.layers.Conv2D(16, kernel_size=5, strides=1, activation='tanh', padding='valid'), #C3\n",
        "    keras.layers.AveragePooling2D(), #S4\n",
        "    keras.layers.Flatten(), #Flatten\n",
        "    keras.layers.Dense(120, activation='tanh'), #C5\n",
        "    #keras.layers.Dropout(0.25), # special\n",
        "    keras.layers.Dense(84, activation='tanh'), #F6\n",
        "    keras.layers.Dropout(0.25), #special\n",
        "    keras.layers.Dense(10, activation='softmax') #Output layer\n",
        "])"
      ],
      "metadata": {
        "id": "bKoabWcl7HMD"
      },
      "execution_count": null,
      "outputs": []
    },
    {
      "cell_type": "code",
      "source": [
        "lenet_5_model.compile(optimizer='adam', loss=keras.losses.sparse_categorical_crossentropy, metrics=['accuracy'])"
      ],
      "metadata": {
        "id": "JO2augSp7KXj"
      },
      "execution_count": null,
      "outputs": []
    },
    {
      "cell_type": "code",
      "source": [
        "root_logdir = os.path.join(os.curdir, \"logs\\\\fit\\\\\")\n",
        "\n",
        "def get_run_logdir():\n",
        "    run_id = time.strftime(\"run_%Y_%m_%d-%H_%M_%S\")\n",
        "    return os.path.join(root_logdir, run_id)\n",
        "\n",
        "run_logdir = get_run_logdir()\n",
        "tensorboard_cb = keras.callbacks.TensorBoard(run_logdir)"
      ],
      "metadata": {
        "id": "98_Ew6JT7Lyd"
      },
      "execution_count": null,
      "outputs": []
    },
    {
      "cell_type": "markdown",
      "source": [
        "# Performance\n",
        "\n",
        "Performance with Dropout layers:\n",
        "\n",
        "\n",
        "\n",
        "> <code>\n",
        "Epoch 1/5\n",
        "1875/1875 [==============================] - 46s 24ms/step - loss: 0.3139 - accuracy: 0.9058 - val_loss: 0.1156 - val_accuracy: 0.9652w\n",
        "Epoch 2/5\n",
        "1875/1875 [==============================] - 45s 24ms/step - loss: 0.1411 - accuracy: 0.9576 - val_loss: 0.0622 - val_accuracy: 0.9818\n",
        "Epoch 3/5\n",
        "1875/1875 [==============================] - 44s 23ms/step - loss: 0.0966 - accuracy: 0.9703 - val_loss: 0.0513 - val_accuracy: 0.9850\n",
        "Epoch 4/5\n",
        "1875/1875 [==============================] - 44s 23ms/step - loss: 0.0785 - accuracy: 0.9759 - val_loss: 0.0407 - val_accuracy: 0.9890\n",
        "Epoch 5/5\n",
        "1875/1875 [==============================] - 44s 23ms/step - loss: 0.0675 - accuracy: 0.9793 - val_loss: 0.0332 - val_accuracy: 0.9898\n",
        "313/313 [==============================] - 3s 8ms/step - loss: 0.0445 - accuracy: 0.9859\n",
        "[0.04446587339043617, 0.9858999848365784]\n",
        "</code>\n",
        "\n",
        "Performance with no dropouts:\n",
        "\n",
        "\n",
        "> <code>\n",
        "Epoch 1/5\n",
        "1875/1875 [==============================] - 48s 25ms/step - loss: 0.2273 - accuracy: 0.9306 - val_loss: 0.0961 - val_accuracy: 0.9708\n",
        "Epoch 2/5\n",
        "1875/1875 [==============================] - 43s 23ms/step - loss: 0.0871 - accuracy: 0.9733 - val_loss: 0.0651 - val_accuracy: 0.9804\n",
        "Epoch 3/5\n",
        "1875/1875 [==============================] - 45s 24ms/step - loss: 0.0600 - accuracy: 0.9815 - val_loss: 0.0391 - val_accuracy: 0.9880\n",
        "Epoch 4/5\n",
        "1875/1875 [==============================] - 44s 23ms/step - loss: 0.0468 - accuracy: 0.9853 - val_loss: 0.0300 - val_accuracy: 0.9914\n",
        "Epoch 5/5\n",
        "1875/1875 [==============================] - 43s 23ms/step - loss: 0.0366 - accuracy: 0.9882 - val_loss: 0.0264 - val_accuracy: 0.9922\n",
        "</code>\n",
        "\n",
        "\n",
        "Performance with a dropout layer (fore the softmax):\n",
        "\n",
        "\n",
        "> <code>\n",
        "Epoch 1/5\n",
        "1875/1875 [==============================] - 45s 23ms/step - loss: 0.2531 - accuracy: 0.9248 - val_loss: 0.0900 - val_accuracy: 0.9754\n",
        "Epoch 2/5\n",
        "1875/1875 [==============================] - 44s 23ms/step - loss: 0.0999 - accuracy: 0.9693 - val_loss: 0.0529 - val_accuracy: 0.9850\n",
        "Epoch 3/5\n",
        "1875/1875 [==============================] - 44s 23ms/step - loss: 0.0681 - accuracy: 0.9790 - val_loss: 0.0448 - val_accuracy: 0.9880\n",
        "Epoch 4/5\n",
        "1875/1875 [==============================] - 44s 24ms/step - loss: 0.0533 - accuracy: 0.9835 - val_loss: 0.0372 - val_accuracy: 0.9890\n",
        "Epoch 5/5\n",
        "1875/1875 [==============================] - 43s 23ms/step - loss: 0.0464 - accuracy: 0.9857 - val_loss: 0.0284 - val_accuracy: 0.9928\n",
        "</code>\n",
        "\n",
        "\n",
        "\n",
        "\n",
        "\n",
        "\n"
      ],
      "metadata": {
        "id": "L5wzjUzORsWf"
      }
    },
    {
      "cell_type": "code",
      "source": [
        "lenet_5_model.fit(train_x, train_y, epochs=5, validation_data=(val_x, val_y), callbacks=[tensorboard_cb])"
      ],
      "metadata": {
        "colab": {
          "base_uri": "https://localhost:8080/"
        },
        "id": "rXWSTVig7NRx",
        "outputId": "c74d532a-1a17-4cf9-e1e8-57ba6550af98"
      },
      "execution_count": null,
      "outputs": [
        {
          "output_type": "stream",
          "name": "stdout",
          "text": [
            "Epoch 1/5\n",
            "1875/1875 [==============================] - 45s 23ms/step - loss: 0.2531 - accuracy: 0.9248 - val_loss: 0.0900 - val_accuracy: 0.9754\n",
            "Epoch 2/5\n",
            "1875/1875 [==============================] - 44s 23ms/step - loss: 0.0999 - accuracy: 0.9693 - val_loss: 0.0529 - val_accuracy: 0.9850\n",
            "Epoch 3/5\n",
            "1875/1875 [==============================] - 44s 23ms/step - loss: 0.0681 - accuracy: 0.9790 - val_loss: 0.0448 - val_accuracy: 0.9880\n",
            "Epoch 4/5\n",
            "1875/1875 [==============================] - 44s 24ms/step - loss: 0.0533 - accuracy: 0.9835 - val_loss: 0.0372 - val_accuracy: 0.9890\n",
            "Epoch 5/5\n",
            "1875/1875 [==============================] - 43s 23ms/step - loss: 0.0464 - accuracy: 0.9857 - val_loss: 0.0284 - val_accuracy: 0.9928\n"
          ]
        },
        {
          "output_type": "execute_result",
          "data": {
            "text/plain": [
              "<keras.callbacks.History at 0x7f7899b91670>"
            ]
          },
          "metadata": {},
          "execution_count": 80
        }
      ]
    },
    {
      "cell_type": "code",
      "source": [
        "lenet_5_model.evaluate(test_x, test_y)"
      ],
      "metadata": {
        "colab": {
          "base_uri": "https://localhost:8080/"
        },
        "id": "wdmlVMN07OjF",
        "outputId": "48d565e1-78f2-452d-afeb-440da3b20a8f"
      },
      "execution_count": null,
      "outputs": [
        {
          "output_type": "stream",
          "name": "stdout",
          "text": [
            "313/313 [==============================] - 3s 9ms/step - loss: 0.0453 - accuracy: 0.9857\n"
          ]
        },
        {
          "output_type": "execute_result",
          "data": {
            "text/plain": [
              "[0.045300740748643875, 0.9857000112533569]"
            ]
          },
          "metadata": {},
          "execution_count": 81
        }
      ]
    },
    {
      "cell_type": "markdown",
      "source": [
        "# Testing\n",
        "\n",
        "For trying a new image prediction, connect GDrive and upload an image you want to classify."
      ],
      "metadata": {
        "id": "kK0mDfEzXN2C"
      }
    },
    {
      "cell_type": "code",
      "source": [
        "image = Image.open('/content/drive/MyDrive/Tesi/Datasets/3_2.png')\n",
        "\n",
        "new_size = (28, 28)\n",
        "image = image.resize(new_size)\n",
        "gray_image = image.convert('L')\n",
        "gray_image.show()\n",
        "image_array = np.array(gray_image).reshape((1, 28, 28, 1)) / 255.0\n",
        "\n",
        "print(np.argmax(lenet_5_model.predict(image_array)))"
      ],
      "metadata": {
        "colab": {
          "base_uri": "https://localhost:8080/",
          "height": 82
        },
        "id": "PvRPkdx48yTP",
        "outputId": "507785f4-2728-4d35-a500-2d1f8ff34185"
      },
      "execution_count": null,
      "outputs": [
        {
          "output_type": "display_data",
          "data": {
            "text/plain": [
              "<PIL.Image.Image image mode=L size=28x28 at 0x7F7899597D00>"
            ],
            "image/png": "[encoded data removed]"
          },
          "metadata": {}
        },
        {
          "output_type": "stream",
          "name": "stdout",
          "text": [
            "1/1 [==============================] - 0s 113ms/step\n",
            "3\n"
          ]
        }
      ]
    }
  ]
}